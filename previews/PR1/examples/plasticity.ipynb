{
 "cells": [
  {
   "cell_type": "markdown",
   "source": [
    "# Plasticity"
   ],
   "metadata": {}
  },
  {
   "cell_type": "markdown",
   "source": [
    "This example is taken from\n",
    "[Ferrite.jl's plasticity example](https://ferrite-fem.github.io/Ferrite.jl/stable/examples/plasticity/)\n",
    "and shows how `FerriteSolvers` can be used to solve this nonlinear problem with time dependent loading.\n",
    "\n",
    "\n",
    "First we need to load all required packages"
   ],
   "metadata": {}
  },
  {
   "outputs": [],
   "cell_type": "code",
   "source": [
    "using FerriteSolvers, Ferrite, Tensors, SparseArrays, LinearAlgebra, Plots"
   ],
   "metadata": {},
   "execution_count": 1
  },
  {
   "cell_type": "markdown",
   "source": [
    "We first include some basic definitions taken and modified from the original\n",
    "[example](https://ferrite-fem.github.io/Ferrite.jl/stable/examples/plasticity/).\n",
    "These definitions are available here: [plasticity_definitions.jl](plasticity_definitions.jl)"
   ],
   "metadata": {}
  },
  {
   "outputs": [],
   "cell_type": "code",
   "source": [
    "include(\"plasticity_definitions.jl\");"
   ],
   "metadata": {},
   "execution_count": 2
  },
  {
   "cell_type": "markdown",
   "source": [
    "## Problem definition\n",
    "We divide the problem struct into three parts: definitions (`def`), a buffer (`buf`), and\n",
    "postprocessing (`post`) to structure the information and make it easier to save the simulation\n",
    "settings (enough to save `def` as the others will be created based on this one)"
   ],
   "metadata": {}
  },
  {
   "outputs": [],
   "cell_type": "code",
   "source": [
    "struct PlasticityProblem{PD,PB,PP}\n",
    "    def::PD\n",
    "    buf::PB\n",
    "    post::PP\n",
    "end"
   ],
   "metadata": {},
   "execution_count": 3
  },
  {
   "cell_type": "markdown",
   "source": [
    "`PlasticityModel` is our `def` and contain all problem settings (mesh, material, loads, interpolations, etc.)"
   ],
   "metadata": {}
  },
  {
   "outputs": [],
   "cell_type": "code",
   "source": [
    "struct PlasticityModel\n",
    "    grid\n",
    "    interpolation\n",
    "    dh\n",
    "    material\n",
    "    traction_rate\n",
    "    dbcs\n",
    "end\n",
    "\n",
    "function PlasticityModel()\n",
    "    E = 200.0e9\n",
    "    H = E/20\n",
    "    ν = 0.3\n",
    "    σ₀ = 200e6\n",
    "    material = J2Plasticity(E, ν, σ₀, H)\n",
    "\n",
    "    L = 10.0\n",
    "    w = 1.0\n",
    "    h = 1.0\n",
    "\n",
    "    traction_rate = 1.e7    # N/s\n",
    "\n",
    "    n = 2\n",
    "    nels = (10n, n, 2n)\n",
    "    P1 = Vec((0.0, 0.0, 0.0))\n",
    "    P2 = Vec((L, w, h))\n",
    "    grid = generate_grid(Tetrahedron, nels, P1, P2)\n",
    "    interpolation = Lagrange{3, RefTetrahedron, 1}()\n",
    "    dh = create_dofhandler(grid, interpolation)\n",
    "    dbcs = create_bc(dh, grid)\n",
    "    return PlasticityModel(grid,interpolation,dh,material,traction_rate,dbcs)\n",
    "end;"
   ],
   "metadata": {},
   "execution_count": 4
  },
  {
   "cell_type": "markdown",
   "source": [
    "`PlasticityFEBuffer` is our `buf` and contain all problem arrays and other allocated values"
   ],
   "metadata": {}
  },
  {
   "outputs": [],
   "cell_type": "code",
   "source": [
    "struct PlasticityFEBuffer\n",
    "    cellvalues\n",
    "    facevalues\n",
    "    K\n",
    "    r\n",
    "    u\n",
    "    states\n",
    "    states_old\n",
    "    time::Vector # length(time)=1, could use ScalarBuffer instead\n",
    "end\n",
    "\n",
    "function build_febuffer(model::PlasticityModel)\n",
    "    dh = model.dh\n",
    "    n_dofs = ndofs(dh)\n",
    "    cellvalues, facevalues = create_values(model.interpolation)\n",
    "    u  = zeros(n_dofs)\n",
    "    r = zeros(n_dofs)\n",
    "    K = create_sparsity_pattern(dh)\n",
    "    nqp = getnquadpoints(cellvalues)\n",
    "    states = [J2PlasticityMaterialState() for _ in 1:nqp, _ in 1:getncells(model.grid)]\n",
    "    states_old = [J2PlasticityMaterialState() for _ in 1:nqp, _ in 1:getncells(model.grid)]\n",
    "    return PlasticityFEBuffer(cellvalues,facevalues,K,r,u,states,states_old,[0.0])\n",
    "end;"
   ],
   "metadata": {},
   "execution_count": 5
  },
  {
   "cell_type": "markdown",
   "source": [
    "Finally, we define our `post` that contains variables that we will save during the simulation"
   ],
   "metadata": {}
  },
  {
   "outputs": [],
   "cell_type": "code",
   "source": [
    "struct PlasticityPost{T}\n",
    "    umax::Vector{T}\n",
    "    tmag::Vector{T}\n",
    "end\n",
    "PlasticityPost() = PlasticityPost(Float64[],Float64[]);"
   ],
   "metadata": {},
   "execution_count": 6
  },
  {
   "cell_type": "markdown",
   "source": [
    "To facilitate reuse, we define a function that gives our full problem struct\n",
    "based on the problem definition"
   ],
   "metadata": {}
  },
  {
   "outputs": [],
   "cell_type": "code",
   "source": [
    "build_problem(def::PlasticityModel) = PlasticityProblem(def, build_febuffer(def), PlasticityPost());"
   ],
   "metadata": {},
   "execution_count": 7
  },
  {
   "cell_type": "markdown",
   "source": [
    "## Neumann boundary conditions\n",
    "We then define a separate function for the Neumann boundary conditions\n",
    "(note that this difference to the original example is not required,\n",
    "but only to separate the element assembly and external boundary conditions)"
   ],
   "metadata": {}
  },
  {
   "outputs": [],
   "cell_type": "code",
   "source": [
    "function apply_neumann!(model::PlasticityModel,buffer::PlasticityFEBuffer)\n",
    "    t = buffer.time[1]\n",
    "    nu = getnbasefunctions(buffer.cellvalues)\n",
    "    re = zeros(nu)\n",
    "    facevalues = buffer.facevalues\n",
    "    grid = model.grid\n",
    "    traction = Vec((0.0, 0.0, model.traction_rate*t))\n",
    "\n",
    "    for (i, cell) in enumerate(CellIterator(model.dh))\n",
    "        fill!(re, 0)\n",
    "        eldofs = celldofs(cell)\n",
    "        for face in 1:nfaces(cell)\n",
    "            if onboundary(cell, face) && (cellid(cell), face) ∈ getfaceset(grid, \"right\")\n",
    "                reinit!(facevalues, cell, face)\n",
    "                for q_point in 1:getnquadpoints(facevalues)\n",
    "                    dΓ = getdetJdV(facevalues, q_point)\n",
    "                    for i in 1:nu\n",
    "                        δu = shape_value(facevalues, q_point, i)\n",
    "                        re[i] -= (δu ⋅ traction) * dΓ\n",
    "                    end\n",
    "                end\n",
    "            end\n",
    "        end\n",
    "        buffer.r[eldofs] .+= re\n",
    "    end\n",
    "end;"
   ],
   "metadata": {},
   "execution_count": 8
  },
  {
   "cell_type": "markdown",
   "source": [
    "## Specialized functions for our problem\n",
    "We first define our \"get\"-functions to get the key arrays for our problem.\n",
    "Note that these functions don't calculate or update anything, that updating\n",
    "is taken care of by `update-update_to_next_step!` and `update_problem!` below."
   ],
   "metadata": {}
  },
  {
   "outputs": [],
   "cell_type": "code",
   "source": [
    "FerriteSolvers.getunknowns(p::PlasticityProblem) = p.buf.u;\n",
    "FerriteSolvers.getresidual(p::PlasticityProblem) = p.buf.r;\n",
    "FerriteSolvers.getjacobian(p::PlasticityProblem) = p.buf.K;"
   ],
   "metadata": {},
   "execution_count": 9
  },
  {
   "cell_type": "markdown",
   "source": [
    "We then define the function to update the problem to a different time. This\n",
    "is typically used to set time dependent boundary conditions. Here, it is also\n",
    "possible to make an improved guess for the solution to this time step if desired."
   ],
   "metadata": {}
  },
  {
   "outputs": [],
   "cell_type": "code",
   "source": [
    "function FerriteSolvers.update_to_next_step!(p::PlasticityProblem, time)\n",
    "    p.buf.time .= time\n",
    "end;"
   ],
   "metadata": {},
   "execution_count": 10
  },
  {
   "cell_type": "markdown",
   "source": [
    "Next, we define the updating of the problem given a new guess to the solution.\n",
    "Note that we use `Δu=nothing` for the case it is not given, to signal no change.\n",
    "This version is called directly after update_to_next_step! before entering\n",
    "the nonlinear iterations."
   ],
   "metadata": {}
  },
  {
   "outputs": [],
   "cell_type": "code",
   "source": [
    "function FerriteSolvers.update_problem!(p::PlasticityProblem, Δu=nothing)\n",
    "    buf = p.buf\n",
    "    def = p.def\n",
    "    if !isnothing(Δu)\n",
    "        apply_zero!(Δu, p.def.dbcs)\n",
    "        buf.u .+= Δu\n",
    "    end\n",
    "    doassemble!(buf.cellvalues, buf.facevalues, buf.K, buf.r,\n",
    "                def.grid, def.dh, def.material, buf.u, buf.states, buf.states_old)\n",
    "    apply_neumann!(def,buf)\n",
    "    apply_zero!(buf.K, buf.r, def.dbcs)\n",
    "end;"
   ],
   "metadata": {},
   "execution_count": 11
  },
  {
   "cell_type": "markdown",
   "source": [
    "In this example, we use the standard convergence criterion that the norm of the free\n",
    "degrees of freedom is less than the iteration tolerance."
   ],
   "metadata": {}
  },
  {
   "outputs": [],
   "cell_type": "code",
   "source": [
    "FerriteSolvers.calculate_convergence_criterion(p::PlasticityProblem) = norm(FerriteSolvers.getresidual(p)[free_dofs(p.def.dbcs)]);"
   ],
   "metadata": {},
   "execution_count": 12
  },
  {
   "cell_type": "markdown",
   "source": [
    "After convergence, we need to update the state variables."
   ],
   "metadata": {}
  },
  {
   "outputs": [],
   "cell_type": "code",
   "source": [
    "function FerriteSolvers.handle_converged!(p::PlasticityProblem)\n",
    "    p.buf.states_old .= p.buf.states\n",
    "end;"
   ],
   "metadata": {},
   "execution_count": 13
  },
  {
   "cell_type": "markdown",
   "source": [
    "As postprocessing, which is called after `handle_converged!`, we save\n",
    "the maximum displacement as well as the traction magnitude."
   ],
   "metadata": {}
  },
  {
   "outputs": [],
   "cell_type": "code",
   "source": [
    "function FerriteSolvers.postprocess!(p::PlasticityProblem, step)\n",
    "    push!(p.post.umax, maximum(abs, FerriteSolvers.getunknowns(p)))\n",
    "    push!(p.post.tmag, p.def.traction_rate*p.buf.time[1])\n",
    "end;"
   ],
   "metadata": {},
   "execution_count": 14
  },
  {
   "cell_type": "markdown",
   "source": [
    "## Solving the problem\n",
    "First, we define a helper function to plot the results after the solution"
   ],
   "metadata": {}
  },
  {
   "outputs": [],
   "cell_type": "code",
   "source": [
    "function plot_results(problem::PlasticityProblem; plt=plot(), label=nothing, markershape=:auto, markersize=4)\n",
    "    umax = vcat(0.0, problem.post.umax)\n",
    "    tmag = vcat(0.0, problem.post.tmag)\n",
    "    plot!(plt, umax, tmag, linewidth=0.5, title=\"Traction-displacement\", label=label,\n",
    "        markeralpha=0.75, markershape=markershape, markersize=markersize)\n",
    "    ylabel!(plt, \"Traction [Pa]\")\n",
    "    xlabel!(plt, \"Maximum deflection [m]\")\n",
    "    return plt\n",
    "end;"
   ],
   "metadata": {},
   "execution_count": 15
  },
  {
   "cell_type": "markdown",
   "source": [
    "Finally, we can solve the problem with different time stepping strategies and plot the results"
   ],
   "metadata": {}
  },
  {
   "outputs": [],
   "cell_type": "code",
   "source": [
    "function example_solution()\n",
    "    def = PlasticityModel()\n",
    "\n",
    "    # Fixed uniform time steps\n",
    "    problem = build_problem(def)\n",
    "    solver = FerriteSolver(NewtonSolver(;tolerance=1.0), FixedTimeStepper(25,0.04))\n",
    "    solve_ferrite_problem!(solver, problem)\n",
    "    plt = plot_results(problem, label=\"uniform\", markershape=:x, markersize=5)\n",
    "\n",
    "    # Same time steps as Ferrite example\n",
    "    problem = build_problem(def)\n",
    "    solver = FerriteSolver(NewtonSolver(;tolerance=1.0), FixedTimeStepper(append!([0.], collect(0.5:0.05:1.0))))\n",
    "    solve_ferrite_problem!(solver, problem)\n",
    "    plot_results(problem, plt=plt, label=\"fixed\", markershape=:circle)\n",
    "\n",
    "    # Adaptive time stepping\n",
    "    problem = build_problem(def)\n",
    "    ts = AdaptiveTimeStepper(0.05, 1.0; Δt_min=0.01, Δt_max=0.2)\n",
    "    solver = FerriteSolver(NewtonSolver(;tolerance=1.0, maxiter=4), ts)\n",
    "    solve_ferrite_problem!(solver, problem)\n",
    "    println(problem.buf.time)\n",
    "    plot_results(problem, plt=plt, label=\"adaptive\", markershape=:circle)\n",
    "    plot!(;legend=:bottomright)\n",
    "end;"
   ],
   "metadata": {},
   "execution_count": 16
  },
  {
   "cell_type": "markdown",
   "source": [
    "Which gives the following result\n",
    "![](plasticity.svg)"
   ],
   "metadata": {}
  },
  {
   "cell_type": "markdown",
   "source": [
    "---\n",
    "\n",
    "*This notebook was generated using [Literate.jl](https://github.com/fredrikekre/Literate.jl).*"
   ],
   "metadata": {}
  }
 ],
 "nbformat_minor": 3,
 "metadata": {
  "language_info": {
   "file_extension": ".jl",
   "mimetype": "application/julia",
   "name": "julia",
   "version": "1.8.0"
  },
  "kernelspec": {
   "name": "julia-1.8",
   "display_name": "Julia 1.8.0",
   "language": "julia"
  }
 },
 "nbformat": 4
}
