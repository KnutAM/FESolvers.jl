{
 "cells": [
  {
   "cell_type": "markdown",
   "source": [
    "# Linear Time Dependent Problem\n",
    "This example is taken from\n",
    "[`Ferrite.jl`'s transient heat flow](https://ferrite-fem.github.io/Ferrite.jl/stable/examples/transient_heat_equation/).\n",
    "We modify the material parameters to get more time-dependent behavior.\n",
    "\n",
    "Currently, only Quasi-static problems are supported by FESolvers. Therefore, we reformulate the linear system compared\n",
    "to remove the mass matrices. We have the same time-discretized weak form:\n",
    "$$\n",
    "\\int_{\\Omega} v\\, u_{n+1}\\ \\mathrm{d}\\Omega + \\Delta t\\int_{\\Omega} k \\nabla v \\cdot \\nabla u_{n+1} \\ \\mathrm{d}\\Omega = \\Delta t\\int_{\\Omega} v f \\ \\mathrm{d}\\Omega + \\int_{\\Omega} v \\, u_{n} \\ \\mathrm{d}\\Omega.\n",
    "$$\n",
    "We then define the linear residual, $r(u_{n+1})$, as\n",
    "$$\n",
    "r(u_{n+1}) = f_\\mathrm{int}(u_{n+1}) - f_\\mathrm{ext}(u_{n}) \\\\\n",
    "f_\\mathrm{int}(u_{n+1}) = \\int_{\\Omega} v\\, u_{n+1}\\ \\mathrm{d}\\Omega + \\Delta t\\int_{\\Omega} k \\nabla v \\cdot \\nabla u_{n+1} \\ \\mathrm{d}\\Omega  \\\\\n",
    "f_\\mathrm{ext}(u_{n}) = \\Delta t\\int_{\\Omega} v f \\ \\mathrm{d}\\Omega + \\int_{\\Omega} v \\, u_{n} \\ \\mathrm{d}\\Omega. \\\\\n",
    "$$\n",
    "giving the discrete operators\n",
    "$$\n",
    "r_i(\\mathbf{u}_{n+1}) = K_{ij} [\\mathbf{u}_{n+1}]_j - [\\mathbf{f}_\\mathrm{ext}(u_{n})]_i\n",
    "$$\n",
    "upon introduction of the function approximation, $u(\\mathbf{x}) \\approx N_i(\\mathbf{x}) u_i$, and the test approximation,\n",
    "$v(\\mathbf{x}) \\approx \\delta N_i(\\mathbf{x}) v_i$\n",
    "where\n",
    "$$\n",
    "K_{ij} = \\int_{\\Omega} \\delta N_i(\\mathbf{x})\\, N_j(\\mathbf{x}) \\ \\mathrm{d}\\Omega + \\Delta t\\int_{\\Omega} k \\nabla \\delta N_i(\\mathbf{x}) \\cdot \\nabla N_j(\\mathbf{x}) \\ \\mathrm{d}\\Omega  \\\\\n",
    "\\left[\\mathbf{f}_\\mathrm{ext}(u_{n})\\right]_i = \\Delta t\\int_{\\Omega} \\delta N_i(\\mathbf{x}) f \\ \\mathrm{d}\\Omega + \\int_{\\Omega} \\delta N_i(\\mathbf{x}) \\, u_{n}(\\mathbf{x}) \\ \\mathrm{d}\\Omega.\n",
    "$$\n",
    "and the residual expression can be simplified to\n",
    "$$\n",
    "r_i =\n",
    "\\int_{\\Omega} \\delta N_i(\\mathbf{x})\\, \\left[u(\\mathbf{x})-u_{n}(\\mathbf{x})\\right] \\ \\mathrm{d}\\Omega\n",
    "+ \\Delta t\\int_{\\Omega} k \\nabla \\delta N_i(\\mathbf{x}) \\cdot \\nabla u(\\mathbf{x}) \\ \\mathrm{d}\\Omega\n",
    "- \\Delta t\\int_{\\Omega} \\delta N_i(\\mathbf{x}) f \\ \\mathrm{d}\\Omega\n",
    "$$\n",
    "\n",
    "## Commented Program\n",
    "\n",
    "Now we solve the problem by using Ferrite and FESolvers.\n",
    "\n",
    "First we load Ferrite, and some other packages we need."
   ],
   "metadata": {}
  },
  {
   "outputs": [],
   "cell_type": "code",
   "source": [
    "using Ferrite, SparseArrays, FESolvers"
   ],
   "metadata": {},
   "execution_count": 1
  },
  {
   "cell_type": "markdown",
   "source": [
    "Then, we define our problem structs. At the end, we will define a nice constructor for this."
   ],
   "metadata": {}
  },
  {
   "outputs": [],
   "cell_type": "code",
   "source": [
    "struct TransientHeat{DEF,BUF,POST}\n",
    "    def::DEF    # Problem definition\n",
    "    buf::BUF    # Buffers for storing values\n",
    "    post::POST  # Struct to save simulation data in each step\n",
    "end\n",
    "\n",
    "struct ProblemDefinition{DH,CH,CV}\n",
    "    dh::DH\n",
    "    ch::CH\n",
    "    cv::CV\n",
    "end\n",
    "\n",
    "function ProblemDefinition()\n",
    "    # **Grid**\n",
    "    grid = generate_grid(Quadrilateral, (100, 100));\n",
    "\n",
    "    # **Cell values**\n",
    "    dim = 2\n",
    "    ip = Lagrange{dim, RefCube, 1}()\n",
    "    qr = QuadratureRule{dim, RefCube}(2)\n",
    "    cellvalues = CellScalarValues(qr, ip);\n",
    "\n",
    "    # **Degrees of freedom**\n",
    "    # After this, we can define the `DofHandler` and distribute the DOFs of the problem.\n",
    "    dh = DofHandler(grid)\n",
    "    push!(dh, :u, 1)\n",
    "    close!(dh);\n",
    "\n",
    "    # **Boundary conditions**\n",
    "    # In order to define the time dependent problem, we need some end time `T` and something that describes\n",
    "    # the linearly increasing Dirichlet boundary condition on $\\partial \\Omega_2$.\n",
    "    max_temp = 100\n",
    "    t_rise = 100\n",
    "    ch = ConstraintHandler(dh);\n",
    "\n",
    "    # Here, we define the boundary condition related to $\\partial \\Omega_1$.\n",
    "    ∂Ω₁ = union(getfaceset.((grid,), [\"left\", \"right\"])...)\n",
    "    dbc = Dirichlet(:u, ∂Ω₁, (x, t) -> 0)\n",
    "    add!(ch, dbc);\n",
    "    # While the next code block corresponds to the linearly increasing temperature description on $\\partial \\Omega_2$\n",
    "    # until `t=t_rise`, and then keep constant\n",
    "    ∂Ω₂ = union(getfaceset.((grid,), [\"top\", \"bottom\"])...)\n",
    "    dbc = Dirichlet(:u, ∂Ω₂, (x, t) -> max_temp * clamp(t / t_rise, 0, 1))\n",
    "    add!(ch, dbc)\n",
    "    close!(ch)\n",
    "    return ProblemDefinition(dh, ch, cellvalues)\n",
    "end;"
   ],
   "metadata": {},
   "execution_count": 2
  },
  {
   "cell_type": "markdown",
   "source": [
    "We then define a problem buffer, that can be created based on the `ProblemDefinition`"
   ],
   "metadata": {}
  },
  {
   "outputs": [],
   "cell_type": "code",
   "source": [
    "struct ProblemBuffer{KT,T}\n",
    "    K::KT\n",
    "    r::Vector{T}\n",
    "    u::Vector{T}\n",
    "    uold::Vector{T}\n",
    "    times::Vector{T}    # [t_old, t_current]\n",
    "end\n",
    "function ProblemBuffer(def::ProblemDefinition)\n",
    "    dh = def.dh\n",
    "    K = create_sparsity_pattern(dh)\n",
    "    r = zeros(ndofs(dh))\n",
    "    u = zeros(ndofs(dh))\n",
    "    uold = zeros(ndofs(dh))\n",
    "    times = zeros(2)\n",
    "    return ProblemBuffer(K, r, u, uold, times)\n",
    "end;"
   ],
   "metadata": {},
   "execution_count": 3
  },
  {
   "cell_type": "markdown",
   "source": [
    "We also need functions to assemble the stiffness and residual vectors"
   ],
   "metadata": {}
  },
  {
   "outputs": [],
   "cell_type": "code",
   "source": [
    "function doassemble!(K::SparseMatrixCSC, r::Vector, cellvalues::CellScalarValues, dh::DofHandler, u, uold, Δt)\n",
    "    n_basefuncs = getnbasefunctions(cellvalues)\n",
    "    Ke = zeros(n_basefuncs, n_basefuncs)\n",
    "    re = zeros(n_basefuncs)\n",
    "    ue = zeros(n_basefuncs)\n",
    "    ue_old = zeros(n_basefuncs)\n",
    "    assembler = start_assemble(K, r)\n",
    "    for cell in CellIterator(dh)\n",
    "        fill!(Ke, 0)\n",
    "        fill!(re, 0)\n",
    "        ue .= u[celldofs(cell)]\n",
    "        ue_old .= uold[celldofs(cell)]\n",
    "        reinit!(cellvalues, cell)\n",
    "        element_routine!(Ke, re, cellvalues, ue, ue_old, Δt)\n",
    "        assemble!(assembler, celldofs(cell), re, Ke)\n",
    "    end\n",
    "end\n",
    "\n",
    "function element_routine!(Ke, re, cellvalues, ue, ue_old, Δt, k=1.0e-3, f=0.5)\n",
    "    n_basefuncs = getnbasefunctions(cellvalues)\n",
    "    for q_point in 1:getnquadpoints(cellvalues)\n",
    "        dΩ = getdetJdV(cellvalues, q_point)\n",
    "        u = function_value(cellvalues, q_point, ue)\n",
    "        uold = function_value(cellvalues, q_point, ue_old)\n",
    "        ∇u = function_gradient(cellvalues, q_point, ue)\n",
    "        for i in 1:n_basefuncs\n",
    "            δN = shape_value(cellvalues, q_point, i)\n",
    "            ∇δN = shape_gradient(cellvalues, q_point, i)\n",
    "            re[i] += (δN * (u - uold - Δt * f) + Δt * k * ∇δN ⋅ ∇u) * dΩ\n",
    "            for j in 1:n_basefuncs\n",
    "                N = shape_value(cellvalues, q_point, j)\n",
    "                ∇N = shape_gradient(cellvalues, q_point, j)\n",
    "                Ke[i, j] += (δN*N + Δt * k * (∇δN ⋅ ∇N)) * dΩ\n",
    "            end\n",
    "        end\n",
    "    end\n",
    "end;"
   ],
   "metadata": {},
   "execution_count": 4
  },
  {
   "cell_type": "markdown",
   "source": [
    "We now define all the required methods for solving this system with using the `LinearProblemSolver`"
   ],
   "metadata": {}
  },
  {
   "outputs": [],
   "cell_type": "code",
   "source": [
    "FESolvers.getunknowns(p::TransientHeat) = p.buf.u\n",
    "FESolvers.getresidual(p::TransientHeat) = p.buf.r\n",
    "FESolvers.getjacobian(p::TransientHeat) = p.buf.K\n",
    "\n",
    "function FESolvers.update_to_next_step!(p::TransientHeat, time)\n",
    "    p.buf.times[2] = time       # Update current time\n",
    "    update!(p.def.ch, time)     # Update Dirichlet boundary conditions\n",
    "    apply!(FESolvers.getunknowns(p), p.def.ch)\n",
    "end\n",
    "\n",
    "function FESolvers.update_problem!(p::TransientHeat, Δu, update_spec)\n",
    "    if !isnothing(Δu)\n",
    "        apply_zero!(Δu, p.def.ch)\n",
    "        p.buf.u .+= Δu\n",
    "    end\n",
    "    # Since the problem is linear, we can save some computations by only updating once per time step\n",
    "    # and not after updating the temperatures to check that it has converged.\n",
    "    if FESolvers.should_update_jacobian(update_spec) || FESolvers.should_update_residual(update_spec)\n",
    "        Δt = p.buf.times[2]-p.buf.times[1]\n",
    "        doassemble!(p.buf.K, p.buf.r, p.def.cv, p.def.dh, FESolvers.getunknowns(p), p.buf.uold, Δt)\n",
    "        apply_zero!(FESolvers.getjacobian(p), FESolvers.getresidual(p), p.def.ch)\n",
    "    end\n",
    "    return nothing\n",
    "end\n",
    "\n",
    "function FESolvers.handle_converged!(p::TransientHeat)\n",
    "    copy!(p.buf.uold, FESolvers.getunknowns(p)) # Set old temperature to current\n",
    "    p.buf.times[1] = p.buf.times[2]             # Set old time to current\n",
    "end;"
   ],
   "metadata": {},
   "execution_count": 5
  },
  {
   "cell_type": "markdown",
   "source": [
    "We are now ready to solve the system, but to save some data we must define some postprocessing tasks\n",
    "In this example, we only save things to file"
   ],
   "metadata": {}
  },
  {
   "outputs": [],
   "cell_type": "code",
   "source": [
    "struct PostProcessing{PVD}\n",
    "    pvd::PVD\n",
    "end\n",
    "PostProcessing() = PostProcessing(paraview_collection(\"transient-heat.pvd\"));\n",
    "\n",
    "function FESolvers.postprocess!(p::TransientHeat, solver)\n",
    "    step = FESolvers.get_step(solver)\n",
    "    vtk_grid(\"transient-heat-$step\", p.def.dh) do vtk\n",
    "        vtk_point_data(vtk, p.def.dh, p.buf.u)\n",
    "        vtk_save(vtk)\n",
    "        p.post.pvd[step] = vtk\n",
    "    end\n",
    "end;"
   ],
   "metadata": {},
   "execution_count": 6
  },
  {
   "cell_type": "markdown",
   "source": [
    "At the end of the simulation, we want to finish all IO operations.\n",
    "We can then define the function `close_problem` which will be called\n",
    "even in the case that an error is thrown during the simulation"
   ],
   "metadata": {}
  },
  {
   "outputs": [],
   "cell_type": "code",
   "source": [
    "function FESolvers.close_problem(p::TransientHeat)\n",
    "    vtk_save(p.post.pvd)\n",
    "end;"
   ],
   "metadata": {},
   "execution_count": 7
  },
  {
   "cell_type": "markdown",
   "source": [
    "We then define a nice constructor for `TransientHeat` and can solve the problem,"
   ],
   "metadata": {}
  },
  {
   "outputs": [],
   "cell_type": "code",
   "source": [
    "TransientHeat(def) = TransientHeat(def, ProblemBuffer(def), PostProcessing());"
   ],
   "metadata": {},
   "execution_count": 8
  },
  {
   "cell_type": "markdown",
   "source": [
    "And now we create the problem type, and define the QuasiStaticSolver with\n",
    "the LinearProblemSolver as well as fixed time steps"
   ],
   "metadata": {}
  },
  {
   "outputs": [],
   "cell_type": "code",
   "source": [
    "problem = TransientHeat(ProblemDefinition())\n",
    "solver = QuasiStaticSolver(;nlsolver=LinearProblemSolver(), timestepper=FixedTimeStepper(collect(0.0:1.0:200)));"
   ],
   "metadata": {},
   "execution_count": 9
  },
  {
   "cell_type": "markdown",
   "source": [
    "Finally, we can solve the problem"
   ],
   "metadata": {}
  },
  {
   "outputs": [],
   "cell_type": "code",
   "source": [
    "solve_problem!(problem, solver);"
   ],
   "metadata": {},
   "execution_count": 10
  },
  {
   "cell_type": "markdown",
   "source": [
    "---\n",
    "\n",
    "*This notebook was generated using [Literate.jl](https://github.com/fredrikekre/Literate.jl).*"
   ],
   "metadata": {}
  }
 ],
 "nbformat_minor": 3,
 "metadata": {
  "language_info": {
   "file_extension": ".jl",
   "mimetype": "application/julia",
   "name": "julia",
   "version": "1.11.1"
  },
  "kernelspec": {
   "name": "julia-1.11",
   "display_name": "Julia 1.11.1",
   "language": "julia"
  }
 },
 "nbformat": 4
}
